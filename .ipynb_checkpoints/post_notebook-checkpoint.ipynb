{
 "cells": [
  {
   "cell_type": "markdown",
   "id": "d296259e",
   "metadata": {},
   "source": [
    "# Post Notebook (Title In Progress)\n",
    "\n",
    "<i>Authors: Rohan Pattnaik, Felix Martinez and the PyQSOFit Team</i>\n",
    "\n",
    "---\n",
    "<!-- Something about how to set up a catalog that is compatable with the fitting code but can have the users idk flush this part out more later with instructions and stuff\n",
    "\n",
    "This notebook is divided into 3 sections:\n",
    "- <b>Catalog Formatting: (Required) </b>\n",
    "    - Where we allow the user to build a catalog of their data that is compatable with the fitting program. This section has an example with a subsection of the DEIMOS catalog.\n",
    "    \n",
    "    \n",
    "- <b>Setting up a Configuration File: (Optional) </b>\n",
    "    - Where we build a configuration file that allows the user to alter the initial conditions of the fitting program\n",
    "\n",
    "\n",
    "- <b>Creating an Arguments file: (Optional) (WIP)</b>\n",
    "    - Designed to build an arguments file that the fitting code will read to determine how it will fit. -->"
   ]
  },
  {
   "cell_type": "code",
   "execution_count": 1,
   "id": "d70ffce1",
   "metadata": {},
   "outputs": [],
   "source": [
    "import glob, os, sys, timeit\n",
    "import numpy as np\n",
    "import matplotlib.pyplot as plt\n",
    "import pandas as pd\n",
    "from astropy.io import fits\n",
    "\n",
    "# Scipy packages\n",
    "import scipy.interpolate as sc\n",
    "from scipy.optimize import curve_fit\n",
    "from scipy.ndimage import gaussian_filter1d\n",
    "\n",
    "# Fitting packages\n",
    "from pyqsofit.PyQSOFit import QSOFit\n",
    "from sklearn.metrics import mean_squared_error as mse\n",
    "from astropy.convolution import convolve, Gaussian1DKernel\n",
    "\n",
    "# System packages\n",
    "from multiprocessing import Pool,cpu_count\n",
    "import warnings\n",
    "warnings.filterwarnings(\"ignore\")\n",
    "\n",
    "# matplotlib documentation\n",
    "from matplotlib.pyplot import cm\n",
    "import matplotlib as mpl\n",
    "from matplotlib.gridspec import *\n",
    "from matplotlib.ticker import *\n",
    "import random"
   ]
  },
  {
   "cell_type": "code",
   "execution_count": 24,
   "id": "c4f1627c",
   "metadata": {},
   "outputs": [
    {
     "name": "stdout",
     "output_type": "stream",
     "text": [
      "/Users/felix/github/AutoQSOFit\n"
     ]
    }
   ],
   "source": [
    "# Setting up pathing\n",
    "path_em = 'results/'\n",
    "path = os.getcwd()\n",
    "print(path)\n",
    "\n",
    "# Get complete linelist\n",
    "complete_linelist = fits.open('pyqsofit/qsopar.fits')[1].data\n",
    "bad_id = []\n",
    "non_detect = []"
   ]
  },
  {
   "cell_type": "code",
   "execution_count": 25,
   "id": "f3e956a6",
   "metadata": {},
   "outputs": [],
   "source": [
    "# reading in the table\n",
    "table = pd.read_pickle('catalogs/output_catalog_example.pkl')"
   ]
  },
  {
   "cell_type": "code",
   "execution_count": 29,
   "id": "634d09f7",
   "metadata": {},
   "outputs": [
    {
     "data": {
      "text/plain": [
       "'/Users/felix/github/AutoQSOFit'"
      ]
     },
     "execution_count": 29,
     "metadata": {},
     "output_type": "execute_result"
    }
   ],
   "source": [
    "pwd"
   ]
  },
  {
   "cell_type": "code",
   "execution_count": 30,
   "id": "11733a5e",
   "metadata": {},
   "outputs": [
    {
     "ename": "FileNotFoundError",
     "evalue": "[Errno 2] No such file or directory: 'results/10382_L957291_14/10382_L957291_14_gauss_results.npy'",
     "output_type": "error",
     "traceback": [
      "\u001b[0;31m---------------------------------------------------------------------------\u001b[0m",
      "\u001b[0;31mFileNotFoundError\u001b[0m                         Traceback (most recent call last)",
      "Cell \u001b[0;32mIn[30], line 1\u001b[0m\n\u001b[0;32m----> 1\u001b[0m \u001b[43mnp\u001b[49m\u001b[38;5;241;43m.\u001b[39;49m\u001b[43mload\u001b[49m\u001b[43m(\u001b[49m\u001b[43mpath_em\u001b[49m\u001b[38;5;241;43m+\u001b[39;49m\u001b[43mfold_name\u001b[49m\u001b[38;5;241;43m+\u001b[39;49m\u001b[38;5;124;43m'\u001b[39;49m\u001b[38;5;124;43m/\u001b[39;49m\u001b[38;5;124;43m'\u001b[39;49m\u001b[38;5;241;43m+\u001b[39;49m\u001b[43mfold_name\u001b[49m\u001b[38;5;241;43m+\u001b[39;49m\u001b[38;5;124;43m'\u001b[39;49m\u001b[38;5;124;43m_gauss_results.npy\u001b[39;49m\u001b[38;5;124;43m'\u001b[39;49m\u001b[43m)\u001b[49m\n",
      "File \u001b[0;32m~/anaconda3/envs/pyqso/lib/python3.11/site-packages/numpy/lib/npyio.py:427\u001b[0m, in \u001b[0;36mload\u001b[0;34m(file, mmap_mode, allow_pickle, fix_imports, encoding, max_header_size)\u001b[0m\n\u001b[1;32m    425\u001b[0m     own_fid \u001b[38;5;241m=\u001b[39m \u001b[38;5;28;01mFalse\u001b[39;00m\n\u001b[1;32m    426\u001b[0m \u001b[38;5;28;01melse\u001b[39;00m:\n\u001b[0;32m--> 427\u001b[0m     fid \u001b[38;5;241m=\u001b[39m stack\u001b[38;5;241m.\u001b[39menter_context(\u001b[38;5;28;43mopen\u001b[39;49m\u001b[43m(\u001b[49m\u001b[43mos_fspath\u001b[49m\u001b[43m(\u001b[49m\u001b[43mfile\u001b[49m\u001b[43m)\u001b[49m\u001b[43m,\u001b[49m\u001b[43m \u001b[49m\u001b[38;5;124;43m\"\u001b[39;49m\u001b[38;5;124;43mrb\u001b[39;49m\u001b[38;5;124;43m\"\u001b[39;49m\u001b[43m)\u001b[49m)\n\u001b[1;32m    428\u001b[0m     own_fid \u001b[38;5;241m=\u001b[39m \u001b[38;5;28;01mTrue\u001b[39;00m\n\u001b[1;32m    430\u001b[0m \u001b[38;5;66;03m# Code to distinguish from NumPy binary files and pickles.\u001b[39;00m\n",
      "\u001b[0;31mFileNotFoundError\u001b[0m: [Errno 2] No such file or directory: 'results/10382_L957291_14/10382_L957291_14_gauss_results.npy'"
     ]
    }
   ],
   "source": [
    "np.load(path_em+fold_name+'/'+fold_name+'_gauss_results.npy')"
   ]
  },
  {
   "cell_type": "code",
   "execution_count": 32,
   "id": "6ecfde36",
   "metadata": {},
   "outputs": [
    {
     "name": "stdout",
     "output_type": "stream",
     "text": [
      "working on 10382_L957291_14\n"
     ]
    },
    {
     "ename": "NameError",
     "evalue": "name 'gauss_result' is not defined",
     "output_type": "error",
     "traceback": [
      "\u001b[0;31m---------------------------------------------------------------------------\u001b[0m",
      "\u001b[0;31mNameError\u001b[0m                                 Traceback (most recent call last)",
      "Cell \u001b[0;32mIn[32], line 18\u001b[0m\n\u001b[1;32m      8\u001b[0m     outpath\u001b[38;5;241m=\u001b[39mpath_em\u001b[38;5;241m+\u001b[39mfold_name\n\u001b[1;32m     10\u001b[0m \u001b[38;5;66;03m#     gauss_result = np.load(path_em+fold_name+'/'+fold_name+'_gauss_results.npy')\u001b[39;00m\n\u001b[1;32m     11\u001b[0m \u001b[38;5;66;03m#     gauss_linefit = np.load(path_em+fold_name+'/'+fold_name+'_many_gauss_linefit.npy')\u001b[39;00m\n\u001b[1;32m     12\u001b[0m \u001b[38;5;66;03m#     f_conti_model = np.load(path_em+fold_name+'/'+fold_name+'_f_conti_model.npy')\u001b[39;00m\n\u001b[0;32m   (...)\u001b[0m\n\u001b[1;32m     16\u001b[0m     \n\u001b[1;32m     17\u001b[0m     \u001b[38;5;66;03m# Get lines that were detected\u001b[39;00m\n\u001b[0;32m---> 18\u001b[0m     scale_idxs \u001b[38;5;241m=\u001b[39m \u001b[38;5;28mlist\u001b[39m(np\u001b[38;5;241m.\u001b[39misin([s \u001b[38;5;28;01mfor\u001b[39;00m s \u001b[38;5;129;01min\u001b[39;00m \u001b[43mgauss_result\u001b[49m[\u001b[38;5;241m1\u001b[39m] \u001b[38;5;28;01mif\u001b[39;00m \u001b[38;5;124m\"\u001b[39m\u001b[38;5;124mscale\u001b[39m\u001b[38;5;124m\"\u001b[39m \u001b[38;5;129;01min\u001b[39;00m s],[s \u001b[38;5;28;01mfor\u001b[39;00m s \u001b[38;5;129;01min\u001b[39;00m gauss_result[\u001b[38;5;241m1\u001b[39m] \u001b[38;5;28;01mif\u001b[39;00m \u001b[38;5;124m\"\u001b[39m\u001b[38;5;124mscale_err\u001b[39m\u001b[38;5;124m\"\u001b[39m \u001b[38;5;129;01min\u001b[39;00m s],invert\u001b[38;5;241m=\u001b[39m\u001b[38;5;28;01mTrue\u001b[39;00m))\n\u001b[1;32m     19\u001b[0m     scale_arr \u001b[38;5;241m=\u001b[39m np\u001b[38;5;241m.\u001b[39marray([s \u001b[38;5;28;01mfor\u001b[39;00m s \u001b[38;5;129;01min\u001b[39;00m gauss_result[\u001b[38;5;241m1\u001b[39m] \u001b[38;5;28;01mif\u001b[39;00m \u001b[38;5;124m\"\u001b[39m\u001b[38;5;124mscale\u001b[39m\u001b[38;5;124m\"\u001b[39m \u001b[38;5;129;01min\u001b[39;00m s])[scale_idxs]\n\u001b[1;32m     20\u001b[0m     scale_idxs \u001b[38;5;241m=\u001b[39m np\u001b[38;5;241m.\u001b[39misin(gauss_result[\u001b[38;5;241m1\u001b[39m],scale_arr)\n",
      "\u001b[0;31mNameError\u001b[0m: name 'gauss_result' is not defined"
     ]
    }
   ],
   "source": [
    "for i in range(len(table)):\n",
    "    #for index,row in broad_cat[broad_cat['ID_2'].isin(folder_ids)].iterrows():\n",
    "    ID = table['id'][i]\n",
    "    z = table['z'][i]\n",
    "    fold_name = str(table['ind'][i])+'_'+ID+'_'+str(table['Qf'][i])\n",
    "    print('working on',fold_name)\n",
    "    \n",
    "    outpath=path_em+fold_name\n",
    "\n",
    "#     gauss_result = np.load(path_em+fold_name+'/'+fold_name+'_gauss_results.npy')\n",
    "#     gauss_linefit = np.load(path_em+fold_name+'/'+fold_name+'_many_gauss_linefit.npy')\n",
    "#     f_conti_model = np.load(path_em+fold_name+'/'+fold_name+'_f_conti_model.npy')\n",
    "#     wave_fl_err = np.load(path_em+fold_name+'/'+fold_name+'_wave_flux_err.npy')\n",
    "#     wave_fl_org = np.load(path_em+fold_name+'/'+fold_name+'_wave_flux_org.npy')\n",
    "#     res_table = pd.read_pickle(path_em+fold_name+'/'+fold_name+'_table.pkl')\n",
    "    \n",
    "    # Get lines that were detected\n",
    "    scale_idxs = list(np.isin([s for s in gauss_result[1] if \"scale\" in s],[s for s in gauss_result[1] if \"scale_err\" in s],invert=True))\n",
    "    scale_arr = np.array([s for s in gauss_result[1] if \"scale\" in s])[scale_idxs]\n",
    "    scale_idxs = np.isin(gauss_result[1],scale_arr)\n",
    "    non_zero_idx = list(gauss_result[0][scale_idxs].astype(np.float64)>0)\n",
    "\n",
    "    det_lines_names = [each[:-8] for each in gauss_result[1][scale_idxs][non_zero_idx]]\n",
    "\n",
    "\n",
    "    # Get detected linelist subset\n",
    "    det_idxs = list(np.isin(complete_linelist['linename'],det_lines_names))\n",
    "    det_lines = complete_linelist[det_idxs][complete_linelist[det_idxs]['lambda'].argsort()]\n",
    "    if len(det_lines) == 0:\n",
    "        non_detect.append(ID)\n",
    "        \n",
    "    df_complist = pd.read_csv('linelist.txt',sep='|')\n",
    "\n",
    "    comp_det = []\n",
    "    for each in det_lines_names:\n",
    "        comp_det.append(df_complist[df_complist['Line Name'] == each])\n",
    "    comp_det = pd.concat(comp_det,ignore_index=True)\n",
    "    comp_det = comp_det.sort_values('Wavelength')\n",
    "        \n",
    "    det_cent = [each[:-5]+'centerwave' for each in gauss_result[1][scale_idxs][non_zero_idx]]\n",
    "    det_cent_idx = np.isin(gauss_result[1],det_cent)\n",
    "    cents = np.exp(np.asarray(gauss_result[0][det_cent_idx],dtype=float))\n",
    "    cents.sort()\n",
    "        \n",
    "    color=list(iter(plt.cm.rainbow(np.linspace(0,1,len(cents)))))\n",
    "    random.seed(4)\n",
    "    random.shuffle(color)\n",
    "    \n",
    "    # Assign each detected line a color\n",
    "    l_c = []\n",
    "    for lam,clr in zip(cents,color):\n",
    "        l_c.append((lam,clr))\n",
    "            \n",
    "    comp_det['new_wl'] = cents\n",
    "\n",
    "    min_max_comp_subplots = []\n",
    "    for name,group in comp_det.groupby('Complex name'):\n",
    "        min_max_comp_subplots.append([np.round(group['new_wl'].min()-30),np.round(group['new_wl'].max()+30)])\n",
    "    min_max_comp_subplots.sort()\n",
    "    if len(min_max_comp_subplots)>6:\n",
    "        min_max_comp_subplots = min_max_comp_subplots[1:]\n",
    "\n",
    "    # ----- Set up plotting parameters -----\n",
    "    mpl.rcParams['xtick.direction'] = 'in'\n",
    "    mpl.rcParams['ytick.direction'] = 'in'\n",
    "    mpl.rcParams['font.family'] = 'serif'\n",
    "    mpl.rcParams['xtick.top'] = True\n",
    "    mpl.rcParams['ytick.right'] = True\n",
    "    \n",
    "    plt.figure(figsize=[8,3])\n",
    "\n",
    "    # Outer grid - Galaxy stamp + Entire Spectra\n",
    "    outer = GridSpec(2,1, height_ratios = [1, 4],hspace=0.01)\n",
    "\n",
    "    # Calculate the number of subplots to be made\n",
    "    sub_n = len(min_max_comp_subplots)\n",
    "\n",
    "    # Top plot\n",
    "    plt.title(fold_name)\n",
    "\n",
    "    plt.plot(wave_fl_err[0],wave_fl_err[1],linewidth=0.8,label='Data',zorder=9,c='k')\n",
    "    plt.plot(wave_fl_err[0],gauss_linefit+f_conti_model,linestyle='dashdot',linewidth=0.8,label='Fit',zorder=10,c='red')\n",
    "    plt.legend(loc=(0.85, 1.001),fontsize=10)\n",
    "\n",
    "    xmin = min(wave_fl_err[0])\n",
    "    xmax = max(wave_fl_err[0])\n",
    "\n",
    "    plt.xlim(xmin,xmax)\n",
    "\n",
    "    plt.xticks(np.linspace(xmin,xmax,num=5,endpoint=True))\n",
    "    minor_locator = AutoMinorLocator(10)\n",
    "\n",
    "    plt.tick_params(axis='both', which='major', labelsize=10)\n",
    "    plt.tick_params(axis='both', which='minor', labelsize=10)\n",
    "    \n",
    "    plt.xlabel(r'Rest-frame Wavelength ($\\AA$)',size=15)\n",
    "    plt.ylabel(r'Flux ($10^{-17}$ $erg$ $\\AA^{-1} s^{-1} cm^{-2}$)', rotation=90, size=15)\n",
    "\n",
    "    for each in l_c:\n",
    "        plt.axvline(each[0],color=each[1], linestyle='--',linewidth=0.8)\n",
    "\n",
    "    plt.subplots_adjust(top=0.94,bottom=0.11,left=0.09,right=0.96,hspace=0.25)\n",
    "#     plt.savefig(outpath+'/'+fold_name+'_simple.png', bbox_inches='tight')\n",
    "#     plt.close()"
   ]
  },
  {
   "cell_type": "code",
   "execution_count": null,
   "id": "27ad1713",
   "metadata": {},
   "outputs": [],
   "source": []
  }
 ],
 "metadata": {
  "kernelspec": {
   "display_name": "Python 3 (ipykernel)",
   "language": "python",
   "name": "python3"
  },
  "language_info": {
   "codemirror_mode": {
    "name": "ipython",
    "version": 3
   },
   "file_extension": ".py",
   "mimetype": "text/x-python",
   "name": "python",
   "nbconvert_exporter": "python",
   "pygments_lexer": "ipython3",
   "version": "3.11.0"
  }
 },
 "nbformat": 4,
 "nbformat_minor": 5
}
